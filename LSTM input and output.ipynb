{
 "cells": [
  {
   "cell_type": "code",
   "execution_count": 1,
   "metadata": {},
   "outputs": [],
   "source": [
    "import pandas as pd\n",
    "import numpy as np\n",
    "import matplotlib.pyplot as plt"
   ]
  },
  {
   "cell_type": "markdown",
   "metadata": {},
   "source": [
    "# LSTM input\n",
    "\n",
    "Asume that:\n",
    "\n",
    "* There are six companies named A, B, C, D, E and F\n",
    "* Each one with its own historical values. Ex: company A as, in this order, the values A1, A2, …, A7\n",
    "\n",
    "Notice that the comand `array = df.values.reshape(df_apple.shape[0],1)` returns an array, just like the variables  A, B, C, D, E e F. Thats why I defined then in the format `[['A1'],['A2'],...[AN]]`.\n",
    "\n",
    "The LSTM model input must have the shape: (Sample, Timestep, Features). Which means to us (Sample Size, past days observed by each company, number of companies).\n",
    "\n",
    "\n",
    "### (Entradas da Rede)\n",
    "\n",
    "Assumimos que:\n",
    "\n",
    "* Temos as empresas A, B, C, D, E e F\n",
    "* Cada uma tem um histórico de valores. Ex: comp_a possui o histórioco na ordem A1, A2, ..., A7\n",
    "\n",
    "Quando temos os dados em um Dataframe do Pandas e escrevemos `array = df.values.reshape(df_apple.shape[0],1)`, recebemos um array igual as variáveis A, B, C, D, E e F. Por isso as defini no formato `[['A1'],['A2'],...[AN]]`.\n",
    "\n",
    "\n",
    "A entrada do modelo LSTM deve ter a seguinte forma:(Sample,Timestep,Features). O que, no nossa caso, significa (Tamanho da amostra, dias passados observados por uma empresa, numero de empresas)."
   ]
  },
  {
   "cell_type": "markdown",
   "metadata": {},
   "source": [
    "## LSTM for a single company\n",
    "A is the array with historical prices. I want to shape it so it will have an input X and output Y to the network.\n",
    "\n",
    "### LSTM de uma única empresa\n",
    "A é o array com o hitórico de preços. Eu quero formatar ele para que ele tenha uma entrada X e uma saída Y para a rede."
   ]
  },
  {
   "cell_type": "code",
   "execution_count": 2,
   "metadata": {},
   "outputs": [
    {
     "data": {
      "text/plain": [
       "array([['A1'],\n",
       "       ['A2'],\n",
       "       ['A3'],\n",
       "       ['A4'],\n",
       "       ['A5'],\n",
       "       ['A6'],\n",
       "       ['A7'],\n",
       "       ['A8']], dtype='<U2')"
      ]
     },
     "execution_count": 2,
     "metadata": {},
     "output_type": "execute_result"
    }
   ],
   "source": [
    "A = np.array([['A1'],['A2'],['A3'],['A4'],['A5'],['A6'],['A7'],['A8']])\n",
    "#A = np.array([[1],[2],[3],[4],[5],[6],[7]])\n",
    "num_companies = 1\n",
    "look_back = 3\n",
    "foward_days = 2\n",
    "A"
   ]
  },
  {
   "cell_type": "code",
   "execution_count": 3,
   "metadata": {},
   "outputs": [],
   "source": [
    "def processData(data, look_back, foward_days,jump=1):\n",
    "    X,Y = [],[]\n",
    "    for i in range(0,len(data) -look_back -foward_days +1, jump):\n",
    "        X.append(data[i:(i+look_back)])\n",
    "        Y.append(data[(i+look_back):(i+look_back+foward_days)])\n",
    "    return np.array(X),np.array(Y)"
   ]
  },
  {
   "cell_type": "code",
   "execution_count": 4,
   "metadata": {},
   "outputs": [],
   "source": [
    "Xtrain,ytrain = processData(A, look_back, foward_days)\n",
    "ytrain = np.array([list(i.ravel()) for i in ytrain])"
   ]
  },
  {
   "cell_type": "code",
   "execution_count": 5,
   "metadata": {},
   "outputs": [
    {
     "data": {
      "text/plain": [
       "array([[['A1'],\n",
       "        ['A2'],\n",
       "        ['A3']],\n",
       "\n",
       "       [['A2'],\n",
       "        ['A3'],\n",
       "        ['A4']],\n",
       "\n",
       "       [['A3'],\n",
       "        ['A4'],\n",
       "        ['A5']],\n",
       "\n",
       "       [['A4'],\n",
       "        ['A5'],\n",
       "        ['A6']]], dtype='<U2')"
      ]
     },
     "execution_count": 5,
     "metadata": {},
     "output_type": "execute_result"
    }
   ],
   "source": [
    "Xtrain # input Xtrain[0] should make ytrain[0] as output"
   ]
  },
  {
   "cell_type": "code",
   "execution_count": 6,
   "metadata": {},
   "outputs": [
    {
     "data": {
      "text/plain": [
       "array([['A4', 'A5'],\n",
       "       ['A5', 'A6'],\n",
       "       ['A6', 'A7'],\n",
       "       ['A7', 'A8']], dtype='<U2')"
      ]
     },
     "execution_count": 6,
     "metadata": {},
     "output_type": "execute_result"
    }
   ],
   "source": [
    "ytrain"
   ]
  },
  {
   "cell_type": "code",
   "execution_count": 7,
   "metadata": {},
   "outputs": [
    {
     "name": "stdout",
     "output_type": "stream",
     "text": [
      "(4, 3, 1)\n",
      "(4, 2)\n"
     ]
    }
   ],
   "source": [
    "print(Xtrain.shape)\n",
    "print(ytrain.shape)"
   ]
  },
  {
   "cell_type": "code",
   "execution_count": 8,
   "metadata": {},
   "outputs": [],
   "source": [
    "from sklearn.model_selection import train_test_split\n",
    "X_train, X_validate, y_train, y_validate = train_test_split(Xtrain, ytrain, test_size=0.20, random_state=42)"
   ]
  },
  {
   "cell_type": "code",
   "execution_count": 9,
   "metadata": {},
   "outputs": [
    {
     "data": {
      "text/plain": [
       "array([[['A4'],\n",
       "        ['A5'],\n",
       "        ['A6']],\n",
       "\n",
       "       [['A1'],\n",
       "        ['A2'],\n",
       "        ['A3']],\n",
       "\n",
       "       [['A3'],\n",
       "        ['A4'],\n",
       "        ['A5']]], dtype='<U2')"
      ]
     },
     "execution_count": 9,
     "metadata": {},
     "output_type": "execute_result"
    }
   ],
   "source": [
    "X_train"
   ]
  },
  {
   "cell_type": "code",
   "execution_count": 10,
   "metadata": {},
   "outputs": [
    {
     "data": {
      "text/plain": [
       "array([['A7', 'A8'],\n",
       "       ['A4', 'A5'],\n",
       "       ['A6', 'A7']], dtype='<U2')"
      ]
     },
     "execution_count": 10,
     "metadata": {},
     "output_type": "execute_result"
    }
   ],
   "source": [
    "y_train"
   ]
  },
  {
   "cell_type": "markdown",
   "metadata": {},
   "source": [
    "#### Example of code (Exemplo de código)\n",
    "\n",
    "`model = Sequential()\n",
    "model.add(LSTM(num_neuronios, input_shape=(look_back, num_companies)))\n",
    "model.add(Dense(foward_days))\n",
    "model.compile(loss='mean_squared_error', optimizer='adam')\n",
    "history = model.fit(X_train,y_train,epochs=EPOCHS,validation_data=(X_validate,y_validate))`"
   ]
  },
  {
   "cell_type": "code",
   "execution_count": 11,
   "metadata": {},
   "outputs": [],
   "source": [
    "Xtest,ytest = processData(A, look_back, foward_days, foward_days)\n",
    "ytest = np.array([list(i.ravel()) for i in ytest])"
   ]
  },
  {
   "cell_type": "code",
   "execution_count": 12,
   "metadata": {},
   "outputs": [
    {
     "data": {
      "text/plain": [
       "array([[['A1'],\n",
       "        ['A2'],\n",
       "        ['A3']],\n",
       "\n",
       "       [['A3'],\n",
       "        ['A4'],\n",
       "        ['A5']]], dtype='<U2')"
      ]
     },
     "execution_count": 12,
     "metadata": {},
     "output_type": "execute_result"
    }
   ],
   "source": [
    "Xtest"
   ]
  },
  {
   "cell_type": "code",
   "execution_count": 13,
   "metadata": {},
   "outputs": [
    {
     "data": {
      "text/plain": [
       "array([['A4', 'A5'],\n",
       "       ['A6', 'A7']], dtype='<U2')"
      ]
     },
     "execution_count": 13,
     "metadata": {},
     "output_type": "execute_result"
    }
   ],
   "source": [
    "ytest"
   ]
  },
  {
   "cell_type": "markdown",
   "metadata": {},
   "source": [
    "## LSTM for several companies (LSTM de várias empresas)"
   ]
  },
  {
   "cell_type": "code",
   "execution_count": 14,
   "metadata": {},
   "outputs": [],
   "source": [
    "A = np.array([['A1'],['A2'],['A3'],['A4'],['A5'],['A6'],['A7'],['A8']])\n",
    "B = np.array([['B1'],['B2'],['B3'],['B4'],['B5'],['B6'],['B7'],['B8']])\n",
    "C = np.array([['C1'],['C2'],['C3'],['C4'],['C5'],['C6'],['C7'],['C8']])\n",
    "D = np.array([['D1'],['D2'],['D3'],['D4'],['D5'],['D6'],['D7'],['D8']])\n",
    "E = np.array([['E1'],['E2'],['E3'],['E4'],['E5'],['E6'],['E7'],['E8']])\n",
    "F = np.array([['F1'],['F2'],['F3'],['F4'],['F5'],['F6'],['F7'],['F8']])\n",
    "num_companies = 6\n",
    "look_back = 3\n",
    "foward_days = 2"
   ]
  },
  {
   "cell_type": "code",
   "execution_count": 15,
   "metadata": {},
   "outputs": [],
   "source": [
    "#A = np.array([[1],[2],[3],[4],[5],[6],[7]])\n",
    "#B = np.array([[7],[6],[5],[4],[3],[2],[1]])\n",
    "#C = np.array([[10],[12],[14],[16],[18],[20],[22]])\n",
    "#D = np.array([[4],[5],[3],[4],[5],[6],[7]])\n",
    "#E = np.array([[8],[9],[10],[11],[10],[9],[8]])\n",
    "#F = np.array([[12],[11],[10],[12],[13],[9],[8]])"
   ]
  },
  {
   "cell_type": "code",
   "execution_count": 16,
   "metadata": {},
   "outputs": [
    {
     "data": {
      "text/plain": [
       "array([['A1', 'B1', 'C1', 'D1', 'E1', 'F1'],\n",
       "       ['A2', 'B2', 'C2', 'D2', 'E2', 'F2'],\n",
       "       ['A3', 'B3', 'C3', 'D3', 'E3', 'F3'],\n",
       "       ['A4', 'B4', 'C4', 'D4', 'E4', 'F4'],\n",
       "       ['A5', 'B5', 'C5', 'D5', 'E5', 'F5'],\n",
       "       ['A6', 'B6', 'C6', 'D6', 'E6', 'F6'],\n",
       "       ['A7', 'B7', 'C7', 'D7', 'E7', 'F7'],\n",
       "       ['A8', 'B8', 'C8', 'D8', 'E8', 'F8']], dtype='<U2')"
      ]
     },
     "execution_count": 16,
     "metadata": {},
     "output_type": "execute_result"
    }
   ],
   "source": [
    "array = np.concatenate((A,B,C,D,E,F), axis=1)\n",
    "array"
   ]
  },
  {
   "cell_type": "code",
   "execution_count": 17,
   "metadata": {},
   "outputs": [],
   "source": [
    "def processData(data, look_back, foward_days,num_companies,jump=1):\n",
    "    X,Y = [],[]\n",
    "    for i in range(0,len(data) -look_back -foward_days +1, jump):\n",
    "        X.append(data[i:(i+look_back)])\n",
    "        Y.append(data[(i+look_back):(i+look_back+foward_days)])\n",
    "    return np.array(X),np.array(Y)"
   ]
  },
  {
   "cell_type": "code",
   "execution_count": 18,
   "metadata": {},
   "outputs": [],
   "source": [
    "Xtrain,ytrain = processData(array,look_back,foward_days,num_companies)\n",
    "ytrain = np.array([list(i.ravel()) for i in ytrain])"
   ]
  },
  {
   "cell_type": "code",
   "execution_count": 19,
   "metadata": {},
   "outputs": [
    {
     "data": {
      "text/plain": [
       "array([[['A1', 'B1', 'C1', 'D1', 'E1', 'F1'],\n",
       "        ['A2', 'B2', 'C2', 'D2', 'E2', 'F2'],\n",
       "        ['A3', 'B3', 'C3', 'D3', 'E3', 'F3']],\n",
       "\n",
       "       [['A2', 'B2', 'C2', 'D2', 'E2', 'F2'],\n",
       "        ['A3', 'B3', 'C3', 'D3', 'E3', 'F3'],\n",
       "        ['A4', 'B4', 'C4', 'D4', 'E4', 'F4']],\n",
       "\n",
       "       [['A3', 'B3', 'C3', 'D3', 'E3', 'F3'],\n",
       "        ['A4', 'B4', 'C4', 'D4', 'E4', 'F4'],\n",
       "        ['A5', 'B5', 'C5', 'D5', 'E5', 'F5']],\n",
       "\n",
       "       [['A4', 'B4', 'C4', 'D4', 'E4', 'F4'],\n",
       "        ['A5', 'B5', 'C5', 'D5', 'E5', 'F5'],\n",
       "        ['A6', 'B6', 'C6', 'D6', 'E6', 'F6']]], dtype='<U2')"
      ]
     },
     "execution_count": 19,
     "metadata": {},
     "output_type": "execute_result"
    }
   ],
   "source": [
    "Xtrain # input Xtrain[0] should make ytrain[0] as output"
   ]
  },
  {
   "cell_type": "code",
   "execution_count": 20,
   "metadata": {},
   "outputs": [
    {
     "data": {
      "text/plain": [
       "array([['A4', 'B4', 'C4', 'D4', 'E4', 'F4', 'A5', 'B5', 'C5', 'D5', 'E5',\n",
       "        'F5'],\n",
       "       ['A5', 'B5', 'C5', 'D5', 'E5', 'F5', 'A6', 'B6', 'C6', 'D6', 'E6',\n",
       "        'F6'],\n",
       "       ['A6', 'B6', 'C6', 'D6', 'E6', 'F6', 'A7', 'B7', 'C7', 'D7', 'E7',\n",
       "        'F7'],\n",
       "       ['A7', 'B7', 'C7', 'D7', 'E7', 'F7', 'A8', 'B8', 'C8', 'D8', 'E8',\n",
       "        'F8']], dtype='<U2')"
      ]
     },
     "execution_count": 20,
     "metadata": {},
     "output_type": "execute_result"
    }
   ],
   "source": [
    "ytrain"
   ]
  },
  {
   "cell_type": "code",
   "execution_count": 21,
   "metadata": {},
   "outputs": [],
   "source": [
    "Xtest,ytest = processData(array,look_back,foward_days,num_companies,foward_days)\n",
    "ytest = np.array([list(i.ravel()) for i in ytest])"
   ]
  },
  {
   "cell_type": "code",
   "execution_count": 22,
   "metadata": {},
   "outputs": [
    {
     "data": {
      "text/plain": [
       "array([[['A1', 'B1', 'C1', 'D1', 'E1', 'F1'],\n",
       "        ['A2', 'B2', 'C2', 'D2', 'E2', 'F2'],\n",
       "        ['A3', 'B3', 'C3', 'D3', 'E3', 'F3']],\n",
       "\n",
       "       [['A3', 'B3', 'C3', 'D3', 'E3', 'F3'],\n",
       "        ['A4', 'B4', 'C4', 'D4', 'E4', 'F4'],\n",
       "        ['A5', 'B5', 'C5', 'D5', 'E5', 'F5']]], dtype='<U2')"
      ]
     },
     "execution_count": 22,
     "metadata": {},
     "output_type": "execute_result"
    }
   ],
   "source": [
    "Xtest"
   ]
  },
  {
   "cell_type": "code",
   "execution_count": 23,
   "metadata": {},
   "outputs": [
    {
     "data": {
      "text/plain": [
       "array([['A4', 'B4', 'C4', 'D4', 'E4', 'F4', 'A5', 'B5', 'C5', 'D5', 'E5',\n",
       "        'F5'],\n",
       "       ['A6', 'B6', 'C6', 'D6', 'E6', 'F6', 'A7', 'B7', 'C7', 'D7', 'E7',\n",
       "        'F7']], dtype='<U2')"
      ]
     },
     "execution_count": 23,
     "metadata": {},
     "output_type": "execute_result"
    }
   ],
   "source": [
    "ytest"
   ]
  },
  {
   "cell_type": "markdown",
   "metadata": {},
   "source": [
    "#### Example of code (Exemplo de código)\n",
    "`model = Sequential()\n",
    "model.add(LSTM(num_neuronios, input_shape=(look_back, num_empresas)))\n",
    "model.add(Dense(foward_days*num_companies))`"
   ]
  },
  {
   "cell_type": "markdown",
   "metadata": {},
   "source": [
    "## LSTM Several Companies output (LSTM saída de muitas empresas)"
   ]
  },
  {
   "cell_type": "code",
   "execution_count": 24,
   "metadata": {},
   "outputs": [
    {
     "data": {
      "text/plain": [
       "array([[['A4', 'B4', 'C4', 'D4', 'E4', 'F4'],\n",
       "        ['A5', 'B5', 'C5', 'D5', 'E5', 'F5']],\n",
       "\n",
       "       [['A6', 'B6', 'C6', 'D6', 'E6', 'F6'],\n",
       "        ['A7', 'B7', 'C7', 'D7', 'E7', 'F7']]], dtype='<U2')"
      ]
     },
     "execution_count": 24,
     "metadata": {},
     "output_type": "execute_result"
    }
   ],
   "source": [
    "def apply_makup(raw_model_output): #to look preetier\n",
    "    preety_output = []\n",
    "    for result in raw_model_output:\n",
    "        preety_output.append([result[x:x+num_companies] for x in range(0, len(result), num_companies)])\n",
    "    preety_output = np.array(preety_output)\n",
    "    return preety_output\n",
    "\n",
    "ytest = apply_makup(ytest)\n",
    "ytest"
   ]
  },
  {
   "cell_type": "markdown",
   "metadata": {},
   "source": [
    "When appling 'makup', the output looks similar to the input, so I can use `scl.inverse_transform()` from `from sklearn.preprocessing import MinMaxScaler`"
   ]
  },
  {
   "cell_type": "code",
   "execution_count": 25,
   "metadata": {},
   "outputs": [
    {
     "data": {
      "text/plain": [
       "array([['A4', 'B4', 'C4', 'D4', 'E4', 'F4', 'A5', 'B5', 'C5', 'D5', 'E5',\n",
       "        'F5'],\n",
       "       ['A6', 'B6', 'C6', 'D6', 'E6', 'F6', 'A7', 'B7', 'C7', 'D7', 'E7',\n",
       "        'F7']], dtype='<U2')"
      ]
     },
     "execution_count": 25,
     "metadata": {},
     "output_type": "execute_result"
    }
   ],
   "source": [
    "def remove_makup(preety_output): #format back\n",
    "    raw_model_output = []\n",
    "    for i in range(len(preety_output)):\n",
    "        raw_model_output.append(preety_output[i].ravel())\n",
    "    return np.array(raw_model_output)\n",
    "\n",
    "ytest = remove_makup(ytest)\n",
    "ytest"
   ]
  },
  {
   "cell_type": "code",
   "execution_count": 26,
   "metadata": {},
   "outputs": [
    {
     "data": {
      "text/plain": [
       "array([['A4', 'A5', 'A6', 'A7'],\n",
       "       ['B4', 'B5', 'B6', 'B7'],\n",
       "       ['C4', 'C5', 'C6', 'C7'],\n",
       "       ['D4', 'D5', 'D6', 'D7'],\n",
       "       ['E4', 'E5', 'E6', 'E7'],\n",
       "       ['F4', 'F5', 'F6', 'F7']], dtype='<U2')"
      ]
     },
     "execution_count": 26,
     "metadata": {},
     "output_type": "execute_result"
    }
   ],
   "source": [
    "def target_by_company(raw_model_output, num_companies):\n",
    "    matrix_output = [[] for x in range(num_companies)]\n",
    "    \n",
    "    for output in raw_model_output:\n",
    "        for i in range (num_companies):\n",
    "            for j in range(0,len(output),num_companies):\n",
    "                matrix_output[i].append(output[i+j])\n",
    "    return np.array(matrix_output)\n",
    "\n",
    "matrix_output = target_by_company(ytest, num_companies)\n",
    "matrix_output"
   ]
  },
  {
   "cell_type": "code",
   "execution_count": 27,
   "metadata": {},
   "outputs": [
    {
     "data": {
      "text/plain": [
       "array([[['A4', 'A5'],\n",
       "        ['A6', 'A7']],\n",
       "\n",
       "       [['B4', 'B5'],\n",
       "        ['B6', 'B7']],\n",
       "\n",
       "       [['C4', 'C5'],\n",
       "        ['C6', 'C7']],\n",
       "\n",
       "       [['D4', 'D5'],\n",
       "        ['D6', 'D7']],\n",
       "\n",
       "       [['E4', 'E5'],\n",
       "        ['E6', 'E7']],\n",
       "\n",
       "       [['F4', 'F5'],\n",
       "        ['F6', 'F7']]], dtype='<U2')"
      ]
     },
     "execution_count": 27,
     "metadata": {},
     "output_type": "execute_result"
    }
   ],
   "source": [
    "def prediction_by_step_by_company(raw_model_output, num_companies):\n",
    "    matrix_prediction = []\n",
    "    for i in range(0,num_companies):\n",
    "        matrix_prediction.append([[lista[j] for j in range(i,len(lista),num_companies)] for lista in raw_model_output])\n",
    "    return np.array(matrix_prediction)\n",
    "\n",
    "matrix_prediction = prediction_by_step_by_company(ytest, num_companies)\n",
    "matrix_prediction"
   ]
  }
 ],
 "metadata": {
  "kernelspec": {
   "display_name": "Python 3",
   "language": "python",
   "name": "python3"
  },
  "language_info": {
   "codemirror_mode": {
    "name": "ipython",
    "version": 3
   },
   "file_extension": ".py",
   "mimetype": "text/x-python",
   "name": "python",
   "nbconvert_exporter": "python",
   "pygments_lexer": "ipython3",
   "version": "3.6.6"
  }
 },
 "nbformat": 4,
 "nbformat_minor": 2
}
